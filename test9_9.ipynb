{
 "cells": [
  {
   "cell_type": "code",
   "execution_count": 1,
   "id": "21733a48",
   "metadata": {},
   "outputs": [
    {
     "name": "stderr",
     "output_type": "stream",
     "text": [
      "2025-09-09 15:05:10.484242: I tensorflow/core/platform/cpu_feature_guard.cc:210] This TensorFlow binary is optimized to use available CPU instructions in performance-critical operations.\n",
      "To enable the following instructions: AVX2 FMA, in other operations, rebuild TensorFlow with the appropriate compiler flags.\n"
     ]
    }
   ],
   "source": [
    "import os\n",
    "import tkinter as tk\n",
    "from tkinter import ttk, filedialog, messagebox, scrolledtext\n",
    "import threading\n",
    "import numpy as np\n",
    "import tensorflow as tf\n",
    "from keras import layers, models\n",
    "import pandas as pd\n",
    "from scipy.interpolate import interp1d\n",
    "import time\n",
    "from datetime import datetime\n",
    "import logging\n",
    "from pathlib import Path"
   ]
  },
  {
   "cell_type": "code",
   "execution_count": 2,
   "id": "d7ff6d7f",
   "metadata": {},
   "outputs": [],
   "source": [
    "import tools"
   ]
  },
  {
   "cell_type": "code",
   "execution_count": 3,
   "id": "d07523a0",
   "metadata": {},
   "outputs": [
    {
     "name": "stdout",
     "output_type": "stream",
     "text": [
      "Loading data from paths...\n",
      "Generating wav files...\n"
     ]
    },
    {
     "name": "stderr",
     "output_type": "stream",
     "text": [
      "WARNING: All log messages before absl::InitializeLog() is called are written to STDERR\n",
      "I0000 00:00:1757448339.022841    7946 gpu_device.cc:2020] Created device /job:localhost/replica:0/task:0/device:GPU:0 with 2787 MB memory:  -> device: 0, name: NVIDIA GeForce GTX 1650 Ti, pci bus id: 0000:01:00.0, compute capability: 7.5\n"
     ]
    },
    {
     "name": "stdout",
     "output_type": "stream",
     "text": [
      "Analyzing audio files...\n",
      "The audio length in /home/arisenthil/capstone2025_python/wave_files/wave_files_v1_v2 is 160000 and the sample rate is 16000\n",
      "The no of files is 235\n",
      "Creating TensorFlow datasets...\n",
      "Found 480 files belonging to 2 classes.\n",
      "Using 384 files for training.\n",
      "Using 96 files for validation.\n",
      "Label names:  ['crushcore 0.75' 'disbond 0.75']\n",
      "Creating spectrogram datasets...\n"
     ]
    },
    {
     "name": "stderr",
     "output_type": "stream",
     "text": [
      "2025-09-09 15:05:46.851871: I tensorflow/core/framework/local_rendezvous.cc:407] Local rendezvous is aborting with status: OUT_OF_RANGE: End of sequence\n"
     ]
    },
    {
     "name": "stdout",
     "output_type": "stream",
     "text": [
      "Building model...\n"
     ]
    },
    {
     "data": {
      "text/html": [
       "<pre style=\"white-space:pre;overflow-x:auto;line-height:normal;font-family:Menlo,'DejaVu Sans Mono',consolas,'Courier New',monospace\"><span style=\"font-weight: bold\">Model: \"sequential\"</span>\n",
       "</pre>\n"
      ],
      "text/plain": [
       "\u001b[1mModel: \"sequential\"\u001b[0m\n"
      ]
     },
     "metadata": {},
     "output_type": "display_data"
    },
    {
     "data": {
      "text/html": [
       "<pre style=\"white-space:pre;overflow-x:auto;line-height:normal;font-family:Menlo,'DejaVu Sans Mono',consolas,'Courier New',monospace\">┏━━━━━━━━━━━━━━━━━━━━━━━━━━━━━━━━━┳━━━━━━━━━━━━━━━━━━━━━━━━┳━━━━━━━━━━━━━━━┓\n",
       "┃<span style=\"font-weight: bold\"> Layer (type)                    </span>┃<span style=\"font-weight: bold\"> Output Shape           </span>┃<span style=\"font-weight: bold\">       Param # </span>┃\n",
       "┡━━━━━━━━━━━━━━━━━━━━━━━━━━━━━━━━━╇━━━━━━━━━━━━━━━━━━━━━━━━╇━━━━━━━━━━━━━━━┩\n",
       "│ resizing (<span style=\"color: #0087ff; text-decoration-color: #0087ff\">Resizing</span>)             │ (<span style=\"color: #00d7ff; text-decoration-color: #00d7ff\">None</span>, <span style=\"color: #00af00; text-decoration-color: #00af00\">32</span>, <span style=\"color: #00af00; text-decoration-color: #00af00\">32</span>, <span style=\"color: #00af00; text-decoration-color: #00af00\">1</span>)      │             <span style=\"color: #00af00; text-decoration-color: #00af00\">0</span> │\n",
       "├─────────────────────────────────┼────────────────────────┼───────────────┤\n",
       "│ normalization (<span style=\"color: #0087ff; text-decoration-color: #0087ff\">Normalization</span>)   │ (<span style=\"color: #00d7ff; text-decoration-color: #00d7ff\">None</span>, <span style=\"color: #00af00; text-decoration-color: #00af00\">32</span>, <span style=\"color: #00af00; text-decoration-color: #00af00\">32</span>, <span style=\"color: #00af00; text-decoration-color: #00af00\">1</span>)      │             <span style=\"color: #00af00; text-decoration-color: #00af00\">3</span> │\n",
       "├─────────────────────────────────┼────────────────────────┼───────────────┤\n",
       "│ conv2d (<span style=\"color: #0087ff; text-decoration-color: #0087ff\">Conv2D</span>)                 │ (<span style=\"color: #00d7ff; text-decoration-color: #00d7ff\">None</span>, <span style=\"color: #00af00; text-decoration-color: #00af00\">30</span>, <span style=\"color: #00af00; text-decoration-color: #00af00\">30</span>, <span style=\"color: #00af00; text-decoration-color: #00af00\">32</span>)     │           <span style=\"color: #00af00; text-decoration-color: #00af00\">320</span> │\n",
       "├─────────────────────────────────┼────────────────────────┼───────────────┤\n",
       "│ conv2d_1 (<span style=\"color: #0087ff; text-decoration-color: #0087ff\">Conv2D</span>)               │ (<span style=\"color: #00d7ff; text-decoration-color: #00d7ff\">None</span>, <span style=\"color: #00af00; text-decoration-color: #00af00\">28</span>, <span style=\"color: #00af00; text-decoration-color: #00af00\">28</span>, <span style=\"color: #00af00; text-decoration-color: #00af00\">64</span>)     │        <span style=\"color: #00af00; text-decoration-color: #00af00\">18,496</span> │\n",
       "├─────────────────────────────────┼────────────────────────┼───────────────┤\n",
       "│ max_pooling2d (<span style=\"color: #0087ff; text-decoration-color: #0087ff\">MaxPooling2D</span>)    │ (<span style=\"color: #00d7ff; text-decoration-color: #00d7ff\">None</span>, <span style=\"color: #00af00; text-decoration-color: #00af00\">14</span>, <span style=\"color: #00af00; text-decoration-color: #00af00\">14</span>, <span style=\"color: #00af00; text-decoration-color: #00af00\">64</span>)     │             <span style=\"color: #00af00; text-decoration-color: #00af00\">0</span> │\n",
       "├─────────────────────────────────┼────────────────────────┼───────────────┤\n",
       "│ dropout (<span style=\"color: #0087ff; text-decoration-color: #0087ff\">Dropout</span>)               │ (<span style=\"color: #00d7ff; text-decoration-color: #00d7ff\">None</span>, <span style=\"color: #00af00; text-decoration-color: #00af00\">14</span>, <span style=\"color: #00af00; text-decoration-color: #00af00\">14</span>, <span style=\"color: #00af00; text-decoration-color: #00af00\">64</span>)     │             <span style=\"color: #00af00; text-decoration-color: #00af00\">0</span> │\n",
       "├─────────────────────────────────┼────────────────────────┼───────────────┤\n",
       "│ flatten (<span style=\"color: #0087ff; text-decoration-color: #0087ff\">Flatten</span>)               │ (<span style=\"color: #00d7ff; text-decoration-color: #00d7ff\">None</span>, <span style=\"color: #00af00; text-decoration-color: #00af00\">12544</span>)          │             <span style=\"color: #00af00; text-decoration-color: #00af00\">0</span> │\n",
       "├─────────────────────────────────┼────────────────────────┼───────────────┤\n",
       "│ dense (<span style=\"color: #0087ff; text-decoration-color: #0087ff\">Dense</span>)                   │ (<span style=\"color: #00d7ff; text-decoration-color: #00d7ff\">None</span>, <span style=\"color: #00af00; text-decoration-color: #00af00\">128</span>)            │     <span style=\"color: #00af00; text-decoration-color: #00af00\">1,605,760</span> │\n",
       "├─────────────────────────────────┼────────────────────────┼───────────────┤\n",
       "│ dropout_1 (<span style=\"color: #0087ff; text-decoration-color: #0087ff\">Dropout</span>)             │ (<span style=\"color: #00d7ff; text-decoration-color: #00d7ff\">None</span>, <span style=\"color: #00af00; text-decoration-color: #00af00\">128</span>)            │             <span style=\"color: #00af00; text-decoration-color: #00af00\">0</span> │\n",
       "├─────────────────────────────────┼────────────────────────┼───────────────┤\n",
       "│ dense_1 (<span style=\"color: #0087ff; text-decoration-color: #0087ff\">Dense</span>)                 │ (<span style=\"color: #00d7ff; text-decoration-color: #00d7ff\">None</span>, <span style=\"color: #00af00; text-decoration-color: #00af00\">2</span>)              │           <span style=\"color: #00af00; text-decoration-color: #00af00\">258</span> │\n",
       "└─────────────────────────────────┴────────────────────────┴───────────────┘\n",
       "</pre>\n"
      ],
      "text/plain": [
       "┏━━━━━━━━━━━━━━━━━━━━━━━━━━━━━━━━━┳━━━━━━━━━━━━━━━━━━━━━━━━┳━━━━━━━━━━━━━━━┓\n",
       "┃\u001b[1m \u001b[0m\u001b[1mLayer (type)                   \u001b[0m\u001b[1m \u001b[0m┃\u001b[1m \u001b[0m\u001b[1mOutput Shape          \u001b[0m\u001b[1m \u001b[0m┃\u001b[1m \u001b[0m\u001b[1m      Param #\u001b[0m\u001b[1m \u001b[0m┃\n",
       "┡━━━━━━━━━━━━━━━━━━━━━━━━━━━━━━━━━╇━━━━━━━━━━━━━━━━━━━━━━━━╇━━━━━━━━━━━━━━━┩\n",
       "│ resizing (\u001b[38;5;33mResizing\u001b[0m)             │ (\u001b[38;5;45mNone\u001b[0m, \u001b[38;5;34m32\u001b[0m, \u001b[38;5;34m32\u001b[0m, \u001b[38;5;34m1\u001b[0m)      │             \u001b[38;5;34m0\u001b[0m │\n",
       "├─────────────────────────────────┼────────────────────────┼───────────────┤\n",
       "│ normalization (\u001b[38;5;33mNormalization\u001b[0m)   │ (\u001b[38;5;45mNone\u001b[0m, \u001b[38;5;34m32\u001b[0m, \u001b[38;5;34m32\u001b[0m, \u001b[38;5;34m1\u001b[0m)      │             \u001b[38;5;34m3\u001b[0m │\n",
       "├─────────────────────────────────┼────────────────────────┼───────────────┤\n",
       "│ conv2d (\u001b[38;5;33mConv2D\u001b[0m)                 │ (\u001b[38;5;45mNone\u001b[0m, \u001b[38;5;34m30\u001b[0m, \u001b[38;5;34m30\u001b[0m, \u001b[38;5;34m32\u001b[0m)     │           \u001b[38;5;34m320\u001b[0m │\n",
       "├─────────────────────────────────┼────────────────────────┼───────────────┤\n",
       "│ conv2d_1 (\u001b[38;5;33mConv2D\u001b[0m)               │ (\u001b[38;5;45mNone\u001b[0m, \u001b[38;5;34m28\u001b[0m, \u001b[38;5;34m28\u001b[0m, \u001b[38;5;34m64\u001b[0m)     │        \u001b[38;5;34m18,496\u001b[0m │\n",
       "├─────────────────────────────────┼────────────────────────┼───────────────┤\n",
       "│ max_pooling2d (\u001b[38;5;33mMaxPooling2D\u001b[0m)    │ (\u001b[38;5;45mNone\u001b[0m, \u001b[38;5;34m14\u001b[0m, \u001b[38;5;34m14\u001b[0m, \u001b[38;5;34m64\u001b[0m)     │             \u001b[38;5;34m0\u001b[0m │\n",
       "├─────────────────────────────────┼────────────────────────┼───────────────┤\n",
       "│ dropout (\u001b[38;5;33mDropout\u001b[0m)               │ (\u001b[38;5;45mNone\u001b[0m, \u001b[38;5;34m14\u001b[0m, \u001b[38;5;34m14\u001b[0m, \u001b[38;5;34m64\u001b[0m)     │             \u001b[38;5;34m0\u001b[0m │\n",
       "├─────────────────────────────────┼────────────────────────┼───────────────┤\n",
       "│ flatten (\u001b[38;5;33mFlatten\u001b[0m)               │ (\u001b[38;5;45mNone\u001b[0m, \u001b[38;5;34m12544\u001b[0m)          │             \u001b[38;5;34m0\u001b[0m │\n",
       "├─────────────────────────────────┼────────────────────────┼───────────────┤\n",
       "│ dense (\u001b[38;5;33mDense\u001b[0m)                   │ (\u001b[38;5;45mNone\u001b[0m, \u001b[38;5;34m128\u001b[0m)            │     \u001b[38;5;34m1,605,760\u001b[0m │\n",
       "├─────────────────────────────────┼────────────────────────┼───────────────┤\n",
       "│ dropout_1 (\u001b[38;5;33mDropout\u001b[0m)             │ (\u001b[38;5;45mNone\u001b[0m, \u001b[38;5;34m128\u001b[0m)            │             \u001b[38;5;34m0\u001b[0m │\n",
       "├─────────────────────────────────┼────────────────────────┼───────────────┤\n",
       "│ dense_1 (\u001b[38;5;33mDense\u001b[0m)                 │ (\u001b[38;5;45mNone\u001b[0m, \u001b[38;5;34m2\u001b[0m)              │           \u001b[38;5;34m258\u001b[0m │\n",
       "└─────────────────────────────────┴────────────────────────┴───────────────┘\n"
      ]
     },
     "metadata": {},
     "output_type": "display_data"
    },
    {
     "data": {
      "text/html": [
       "<pre style=\"white-space:pre;overflow-x:auto;line-height:normal;font-family:Menlo,'DejaVu Sans Mono',consolas,'Courier New',monospace\"><span style=\"font-weight: bold\"> Total params: </span><span style=\"color: #00af00; text-decoration-color: #00af00\">1,624,837</span> (6.20 MB)\n",
       "</pre>\n"
      ],
      "text/plain": [
       "\u001b[1m Total params: \u001b[0m\u001b[38;5;34m1,624,837\u001b[0m (6.20 MB)\n"
      ]
     },
     "metadata": {},
     "output_type": "display_data"
    },
    {
     "data": {
      "text/html": [
       "<pre style=\"white-space:pre;overflow-x:auto;line-height:normal;font-family:Menlo,'DejaVu Sans Mono',consolas,'Courier New',monospace\"><span style=\"font-weight: bold\"> Trainable params: </span><span style=\"color: #00af00; text-decoration-color: #00af00\">1,624,834</span> (6.20 MB)\n",
       "</pre>\n"
      ],
      "text/plain": [
       "\u001b[1m Trainable params: \u001b[0m\u001b[38;5;34m1,624,834\u001b[0m (6.20 MB)\n"
      ]
     },
     "metadata": {},
     "output_type": "display_data"
    },
    {
     "data": {
      "text/html": [
       "<pre style=\"white-space:pre;overflow-x:auto;line-height:normal;font-family:Menlo,'DejaVu Sans Mono',consolas,'Courier New',monospace\"><span style=\"font-weight: bold\"> Non-trainable params: </span><span style=\"color: #00af00; text-decoration-color: #00af00\">3</span> (16.00 B)\n",
       "</pre>\n"
      ],
      "text/plain": [
       "\u001b[1m Non-trainable params: \u001b[0m\u001b[38;5;34m3\u001b[0m (16.00 B)\n"
      ]
     },
     "metadata": {},
     "output_type": "display_data"
    },
    {
     "name": "stdout",
     "output_type": "stream",
     "text": [
      "Training model...\n",
      "Epoch 1/10\n"
     ]
    },
    {
     "name": "stderr",
     "output_type": "stream",
     "text": [
      "2025-09-09 15:05:48.910807: I external/local_xla/xla/service/service.cc:163] XLA service 0x752e98005d60 initialized for platform CUDA (this does not guarantee that XLA will be used). Devices:\n",
      "2025-09-09 15:05:48.910838: I external/local_xla/xla/service/service.cc:171]   StreamExecutor device (0): NVIDIA GeForce GTX 1650 Ti, Compute Capability 7.5\n",
      "2025-09-09 15:05:48.953521: I tensorflow/compiler/mlir/tensorflow/utils/dump_mlir_util.cc:269] disabling MLIR crash reproducer, set env var `MLIR_CRASH_REPRODUCER_DIRECTORY` to enable.\n",
      "2025-09-09 15:05:49.256532: I external/local_xla/xla/stream_executor/cuda/cuda_dnn.cc:473] Loaded cuDNN version 91300\n",
      "2025-09-09 15:05:49.892815: I external/local_xla/xla/service/gpu/autotuning/conv_algorithm_picker.cc:546] Omitted potentially buggy algorithm eng14{k25=2} for conv (f32[1,64,28,28]{3,2,1,0}, u8[0]{0}) custom-call(f32[1,32,30,30]{3,2,1,0}, f32[64,32,3,3]{3,2,1,0}, f32[64]{0}), window={size=3x3}, dim_labels=bf01_oi01->bf01, custom_call_target=\"__cudnn$convBiasActivationForward\", backend_config={\"operation_queue_id\":\"0\",\"wait_on_operation_queues\":[],\"cudnn_conv_backend_config\":{\"activation_mode\":\"kNone\",\"conv_result_scale\":1,\"side_input_scale\":0,\"leakyrelu_alpha\":0},\"force_earliest_schedule\":false,\"reification_cost\":[]}\n"
     ]
    },
    {
     "name": "stdout",
     "output_type": "stream",
     "text": [
      "\u001b[1m 35/384\u001b[0m \u001b[32m━\u001b[0m\u001b[37m━━━━━━━━━━━━━━━━━━━\u001b[0m \u001b[1m1s\u001b[0m 5ms/step - accuracy: 0.3374 - loss: 0.7559"
     ]
    },
    {
     "name": "stderr",
     "output_type": "stream",
     "text": [
      "I0000 00:00:1757448351.810484    8049 device_compiler.h:196] Compiled cluster using XLA!  This line is logged at most once for the lifetime of the process.\n"
     ]
    },
    {
     "name": "stdout",
     "output_type": "stream",
     "text": [
      "\u001b[1m378/384\u001b[0m \u001b[32m━━━━━━━━━━━━━━━━━━━\u001b[0m\u001b[37m━\u001b[0m \u001b[1m0s\u001b[0m 4ms/step - accuracy: 0.6093 - loss: 0.5991"
     ]
    },
    {
     "name": "stderr",
     "output_type": "stream",
     "text": [
      "2025-09-09 15:05:53.667333: I external/local_xla/xla/service/gpu/autotuning/conv_algorithm_picker.cc:546] Omitted potentially buggy algorithm eng14{k25=2} for conv (f32[1,64,28,28]{3,2,1,0}, u8[0]{0}) custom-call(f32[1,32,30,30]{3,2,1,0}, f32[64,32,3,3]{3,2,1,0}, f32[64]{0}), window={size=3x3}, dim_labels=bf01_oi01->bf01, custom_call_target=\"__cudnn$convBiasActivationForward\", backend_config={\"operation_queue_id\":\"0\",\"wait_on_operation_queues\":[],\"cudnn_conv_backend_config\":{\"activation_mode\":\"kRelu\",\"conv_result_scale\":1,\"side_input_scale\":0,\"leakyrelu_alpha\":0},\"force_earliest_schedule\":false,\"reification_cost\":[]}\n"
     ]
    },
    {
     "name": "stdout",
     "output_type": "stream",
     "text": [
      "\u001b[1m384/384\u001b[0m \u001b[32m━━━━━━━━━━━━━━━━━━━━\u001b[0m\u001b[37m\u001b[0m \u001b[1m7s\u001b[0m 6ms/step - accuracy: 0.7656 - loss: 0.4394 - val_accuracy: 0.9583 - val_loss: 0.1086\n",
      "Epoch 2/10\n",
      "\u001b[1m384/384\u001b[0m \u001b[32m━━━━━━━━━━━━━━━━━━━━\u001b[0m\u001b[37m\u001b[0m \u001b[1m1s\u001b[0m 4ms/step - accuracy: 0.9375 - loss: 0.1428 - val_accuracy: 1.0000 - val_loss: 0.0244\n",
      "Epoch 3/10\n",
      "\u001b[1m384/384\u001b[0m \u001b[32m━━━━━━━━━━━━━━━━━━━━\u001b[0m\u001b[37m\u001b[0m \u001b[1m1s\u001b[0m 4ms/step - accuracy: 0.9661 - loss: 0.1189 - val_accuracy: 1.0000 - val_loss: 0.0099\n",
      "Epoch 4/10\n",
      "\u001b[1m384/384\u001b[0m \u001b[32m━━━━━━━━━━━━━━━━━━━━\u001b[0m\u001b[37m\u001b[0m \u001b[1m1s\u001b[0m 4ms/step - accuracy: 0.9766 - loss: 0.0553 - val_accuracy: 1.0000 - val_loss: 0.0089\n",
      "Epoch 5/10\n",
      "\u001b[1m384/384\u001b[0m \u001b[32m━━━━━━━━━━━━━━━━━━━━\u001b[0m\u001b[37m\u001b[0m \u001b[1m1s\u001b[0m 4ms/step - accuracy: 0.9818 - loss: 0.0408 - val_accuracy: 1.0000 - val_loss: 0.0035\n",
      "Epoch 6/10\n",
      "\u001b[1m384/384\u001b[0m \u001b[32m━━━━━━━━━━━━━━━━━━━━\u001b[0m\u001b[37m\u001b[0m \u001b[1m1s\u001b[0m 3ms/step - accuracy: 0.9870 - loss: 0.0526 - val_accuracy: 1.0000 - val_loss: 0.0071\n",
      "Epoch 7/10\n",
      "\u001b[1m384/384\u001b[0m \u001b[32m━━━━━━━━━━━━━━━━━━━━\u001b[0m\u001b[37m\u001b[0m \u001b[1m1s\u001b[0m 4ms/step - accuracy: 1.0000 - loss: 0.0058 - val_accuracy: 1.0000 - val_loss: 0.0012\n",
      "Epoch 8/10\n",
      "\u001b[1m384/384\u001b[0m \u001b[32m━━━━━━━━━━━━━━━━━━━━\u001b[0m\u001b[37m\u001b[0m \u001b[1m1s\u001b[0m 4ms/step - accuracy: 0.9870 - loss: 0.0245 - val_accuracy: 1.0000 - val_loss: 0.0016\n",
      "Epoch 9/10\n",
      "\u001b[1m384/384\u001b[0m \u001b[32m━━━━━━━━━━━━━━━━━━━━\u001b[0m\u001b[37m\u001b[0m \u001b[1m1s\u001b[0m 3ms/step - accuracy: 0.9948 - loss: 0.0097 - val_accuracy: 1.0000 - val_loss: 7.5905e-04\n",
      "Epoch 10/10\n",
      "\u001b[1m384/384\u001b[0m \u001b[32m━━━━━━━━━━━━━━━━━━━━\u001b[0m\u001b[37m\u001b[0m \u001b[1m1s\u001b[0m 3ms/step - accuracy: 0.9974 - loss: 0.0045 - val_accuracy: 1.0000 - val_loss: 0.0197\n",
      "Testing model...\n",
      "\u001b[1m48/48\u001b[0m \u001b[32m━━━━━━━━━━━━━━━━━━━━\u001b[0m\u001b[37m\u001b[0m \u001b[1m1s\u001b[0m 3ms/step\n",
      "Saving model as 'classifier_model'...\n",
      "INFO:tensorflow:Assets written to: /home/arisenthil/capstone2025_python/saved_models/classifier_model/assets\n"
     ]
    },
    {
     "name": "stderr",
     "output_type": "stream",
     "text": [
      "INFO:tensorflow:Assets written to: /home/arisenthil/capstone2025_python/saved_models/classifier_model/assets\n"
     ]
    },
    {
     "name": "stdout",
     "output_type": "stream",
     "text": [
      "Model saved successfully to: /home/arisenthil/capstone2025_python/saved_models/classifier_model\n"
     ]
    }
   ],
   "source": [
    "paths = [\n",
    "    '/home/arisenthil/capstone2025_python/data/crushcore_0.75_sep7',\n",
    "    '/home/arisenthil/capstone2025_python/data/disbond_0.75_sep7'\n",
    "]\n",
    "\n",
    "results = tools.train_classification_model(\n",
    "    data_paths=paths,\n",
    "    model_save_name=\"classifier_model\",\n",
    "    epochs=10\n",
    ")"
   ]
  },
  {
   "cell_type": "code",
   "execution_count": 4,
   "id": "363b39b0",
   "metadata": {},
   "outputs": [
    {
     "data": {
      "text/plain": [
       "{'model': <Sequential name=sequential, built=True>,\n",
       " 'history': <keras.src.callbacks.history.History at 0x752f9e771390>,\n",
       " 'model_path': '/home/arisenthil/capstone2025_python/saved_models/classifier_model',\n",
       " 'test_spectrogram_ds': <_PrefetchDataset element_spec=(TensorSpec(shape=(None, 1249, 129, 1), dtype=tf.float32, name=None), TensorSpec(shape=(None,), dtype=tf.int32, name=None))>,\n",
       " 'label_names': array(['crushcore 0.75', 'disbond 0.75'], dtype='<U14'),\n",
       " 'train_spectrogram_ds': <_PrefetchDataset element_spec=(TensorSpec(shape=(None, 1249, 129, 1), dtype=tf.float32, name=None), TensorSpec(shape=(None,), dtype=tf.int32, name=None))>,\n",
       " 'val_spectrogram_ds': <_PrefetchDataset element_spec=(TensorSpec(shape=(None, 1249, 129, 1), dtype=tf.float32, name=None), TensorSpec(shape=(None,), dtype=tf.int32, name=None))>}"
      ]
     },
     "execution_count": 4,
     "metadata": {},
     "output_type": "execute_result"
    }
   ],
   "source": [
    "results"
   ]
  },
  {
   "cell_type": "code",
   "execution_count": 5,
   "id": "0e09bbe2",
   "metadata": {},
   "outputs": [],
   "source": [
    "model = results['model']\n",
    "history = results['history']\n",
    "model_path = results['model_path']\n",
    "test_spectrogram_ds = results['test_spectrogram_ds']\n",
    "label_names = results['label_names']"
   ]
  },
  {
   "cell_type": "code",
   "execution_count": 6,
   "id": "5d4ae8dd",
   "metadata": {},
   "outputs": [
    {
     "name": "stdout",
     "output_type": "stream",
     "text": [
      "\u001b[1m48/48\u001b[0m \u001b[32m━━━━━━━━━━━━━━━━━━━━\u001b[0m\u001b[37m\u001b[0m \u001b[1m0s\u001b[0m 4ms/step - accuracy: 1.0000 - loss: 0.0292\n",
      "\u001b[1m48/48\u001b[0m \u001b[32m━━━━━━━━━━━━━━━━━━━━\u001b[0m\u001b[37m\u001b[0m \u001b[1m0s\u001b[0m 2ms/step\n"
     ]
    },
    {
     "name": "stderr",
     "output_type": "stream",
     "text": [
      "2025-09-09 15:07:25.996444: I tensorflow/core/framework/local_rendezvous.cc:407] Local rendezvous is aborting with status: OUT_OF_RANGE: End of sequence\n"
     ]
    },
    {
     "data": {
      "image/png": "[encoded data removed]",
      "text/plain": [
       "<Figure size 1000x800 with 2 Axes>"
      ]
     },
     "metadata": {},
     "output_type": "display_data"
    }
   ],
   "source": [
    "import seaborn as sns\n",
    "import matplotlib.pyplot as plt\n",
    "\n",
    "\n",
    "model.evaluate(test_spectrogram_ds, return_dict=True)\n",
    "\n",
    "y_pred = model.predict(test_spectrogram_ds)\n",
    "y_pred = tf.argmax(y_pred, axis=1)\n",
    "\n",
    "y_true = tf.concat(list(test_spectrogram_ds.map(lambda s,lab: lab)), axis=0)\n",
    "\n",
    "confusion_mtx = tf.math.confusion_matrix(y_true, y_pred)\n",
    "plt.figure(figsize=(10, 8))\n",
    "sns.heatmap(confusion_mtx,\n",
    "            xticklabels=label_names,\n",
    "            yticklabels=label_names,\n",
    "            annot=True, fmt='g')\n",
    "plt.xlabel('Prediction')\n",
    "plt.ylabel('Label')\n",
    "plt.show()"
   ]
  },
  {
   "cell_type": "code",
   "execution_count": 7,
   "id": "0a8966bb",
   "metadata": {},
   "outputs": [
    {
     "data": {
      "text/plain": [
       "Text(0, 0.5, 'Accuracy [%]')"
      ]
     },
     "execution_count": 7,
     "metadata": {},
     "output_type": "execute_result"
    },
    {
     "data": {
      "image/png": "[encoded data removed]",
      "text/plain": [
       "<Figure size 1600x600 with 2 Axes>"
      ]
     },
     "metadata": {},
     "output_type": "display_data"
    }
   ],
   "source": [
    "metrics = history.history\n",
    "plt.figure(figsize=(16,6))\n",
    "plt.subplot(1,2,1)\n",
    "plt.plot(history.epoch, metrics['loss'], metrics['val_loss'])\n",
    "plt.legend(['loss', 'val_loss'])\n",
    "plt.ylim([0, max(plt.ylim())])\n",
    "plt.xlabel('Epoch')\n",
    "plt.ylabel('Loss [CrossEntropy]')\n",
    "\n",
    "plt.subplot(1,2,2)\n",
    "plt.plot(history.epoch, 100*np.array(metrics['accuracy']), 100*np.array(metrics['val_accuracy']))\n",
    "plt.legend(['accuracy', 'val_accuracy'])\n",
    "plt.ylim([0, 100])\n",
    "plt.xlabel('Epoch')\n",
    "plt.ylabel('Accuracy [%]')"
   ]
  },
  {
   "cell_type": "code",
   "execution_count": null,
   "id": "78aef148",
   "metadata": {},
   "outputs": [],
   "source": [
    "import seaborn as sns\n",
    "import matplotlib.pyplot as plt\n",
    "import numpy as np\n",
    "import tensorflow as tf\n",
    "from matplotlib.backends.backend_pdf import PdfPages\n",
    "from datetime import datetime\n",
    "import os\n",
    "\n",
    "def generate_model_evaluation_pdf(model, history, test_spectrogram_ds, label_names, \n",
    "                                model_path=None, output_path=None, figsize=(12, 8)):\n",
    "    \"\"\"\n",
    "    Generate a comprehensive PDF report with model evaluation metrics and plots.\n",
    "    \n",
    "    Parameters:\n",
    "    -----------\n",
    "    model : tf.keras.Model\n",
    "        Trained TensorFlow/Keras model\n",
    "    history : tf.keras.callbacks.History\n",
    "        Training history object containing metrics\n",
    "    test_spectrogram_ds : tf.data.Dataset\n",
    "        Test dataset for evaluation\n",
    "    label_names : list\n",
    "        List of class/label names\n",
    "    model_path : str, optional\n",
    "        Path to the saved model (for documentation)\n",
    "    output_path : str, optional\n",
    "        Output path for the PDF file. If None, generates timestamp-based filename\n",
    "    figsize : tuple, optional\n",
    "        Figure size for plots (width, height)\n",
    "    \n",
    "    Returns:\n",
    "    --------\n",
    "    str : Path to the generated PDF file\n",
    "    \"\"\"\n",
    "    \n",
    "    # Generate output filename if not provided\n",
    "    if output_path is None:\n",
    "        timestamp = datetime.now().strftime(\"%Y%m%d_%H%M%S\")\n",
    "        output_path = f\"model_evaluation_report_{timestamp}.pdf\"\n",
    "    \n",
    "    # Evaluate model and get predictions\n",
    "    print(\"Evaluating model...\")\n",
    "    eval_results = model.evaluate(test_spectrogram_ds, return_dict=True, verbose=0)\n",
    "    \n",
    "    print(\"Generating predictions...\")\n",
    "    y_pred = model.predict(test_spectrogram_ds, verbose=0)\n",
    "    y_pred = tf.argmax(y_pred, axis=1)\n",
    "    y_true = tf.concat(list(test_spectrogram_ds.map(lambda s, lab: lab)), axis=0)\n",
    "    \n",
    "    # Calculate confusion matrix\n",
    "    confusion_mtx = tf.math.confusion_matrix(y_true, y_pred)\n",
    "    \n",
    "    # Create PDF with multiple pages\n",
    "    with PdfPages(output_path) as pdf:\n",
    "        \n",
    "        # Page 1: Model Summary and Evaluation Metrics\n",
    "        fig = plt.figure(figsize=figsize)\n",
    "        fig.suptitle('Model Evaluation Report', fontsize=16, fontweight='bold')\n",
    "        \n",
    "        # Remove axes and add text summary\n",
    "        ax = fig.add_subplot(111)\n",
    "        ax.axis('off')\n",
    "        \n",
    "        # Prepare summary text\n",
    "        summary_text = f\"\"\"\n",
    "Model Evaluation Summary\n",
    "{'=' * 50}\n",
    "\n",
    "Model Path: {model_path if model_path else 'Not specified'}\n",
    "Generated: {datetime.now().strftime('%Y-%m-%d %H:%M:%S')}\n",
    "\n",
    "Test Set Performance:\n",
    "\"\"\"\n",
    "        \n",
    "        for metric, value in eval_results.items():\n",
    "            if isinstance(value, float):\n",
    "                summary_text += f\"  {metric.capitalize()}: {value:.4f}\\n\"\n",
    "            else:\n",
    "                summary_text += f\"  {metric.capitalize()}: {value}\\n\"\n",
    "        \n",
    "        summary_text += f\"\"\"\n",
    "Dataset Information:\n",
    "  Number of Classes: {len(label_names)}\n",
    "  Class Names: {', '.join(label_names)}\n",
    "\n",
    "Training Information:\n",
    "  Total Epochs: {len(history.history['loss'])}\n",
    "  Final Training Loss: {history.history['loss'][-1]:.4f}\n",
    "  Final Validation Loss: {history.history['val_loss'][-1]:.4f}\n",
    "  Final Training Accuracy: {history.history['accuracy'][-1]:.4f}\n",
    "  Final Validation Accuracy: {history.history['val_accuracy'][-1]:.4f}\n",
    "\"\"\"\n",
    "        \n",
    "        ax.text(0.05, 0.95, summary_text, transform=ax.transAxes, fontsize=12,\n",
    "                verticalalignment='top', fontfamily='monospace')\n",
    "        \n",
    "        pdf.savefig(fig, bbox_inches='tight')\n",
    "        plt.close()\n",
    "        \n",
    "        # Page 2: Confusion Matrix\n",
    "        fig, ax = plt.subplots(figsize=figsize)\n",
    "        fig.suptitle('Confusion Matrix', fontsize=16, fontweight='bold')\n",
    "        \n",
    "        sns.heatmap(confusion_mtx, \n",
    "                   xticklabels=label_names, \n",
    "                   yticklabels=label_names,\n",
    "                   annot=True, \n",
    "                   fmt='g', \n",
    "                   cmap='Blues',\n",
    "                   ax=ax)\n",
    "        \n",
    "        ax.set_xlabel('Predicted Label', fontsize=12)\n",
    "        ax.set_ylabel('True Label', fontsize=12)\n",
    "        \n",
    "        # Add accuracy per class\n",
    "        confusion_mtx_np = confusion_mtx.numpy()\n",
    "        class_accuracies = np.diag(confusion_mtx_np) / np.sum(confusion_mtx_np, axis=1)\n",
    "        \n",
    "        # Add text box with per-class accuracies\n",
    "        acc_text = \"Per-Class Accuracy:\\n\" + \"\\n\".join([\n",
    "            f\"{label}: {acc:.3f}\" for label, acc in zip(label_names, class_accuracies)\n",
    "        ])\n",
    "        \n",
    "        props = dict(boxstyle='round', facecolor='wheat', alpha=0.8)\n",
    "        ax.text(1.02, 1, acc_text, transform=ax.transAxes, fontsize=10,\n",
    "                verticalalignment='top', bbox=props)\n",
    "        \n",
    "        pdf.savefig(fig, bbox_inches='tight')\n",
    "        plt.close()\n",
    "        \n",
    "        # Page 3: Training History - Loss and Accuracy\n",
    "        fig, (ax1, ax2) = plt.subplots(1, 2, figsize=(16, 6))\n",
    "        fig.suptitle('Training History', fontsize=16, fontweight='bold')\n",
    "        \n",
    "        # Loss plot\n",
    "        metrics = history.history\n",
    "        epochs = range(1, len(metrics['loss']) + 1)\n",
    "        \n",
    "        ax1.plot(epochs, metrics['loss'], 'b-', label='Training Loss', linewidth=2)\n",
    "        ax1.plot(epochs, metrics['val_loss'], 'r-', label='Validation Loss', linewidth=2)\n",
    "        ax1.set_title('Model Loss', fontsize=14)\n",
    "        ax1.set_xlabel('Epoch', fontsize=12)\n",
    "        ax1.set_ylabel('Loss [CrossEntropy]', fontsize=12)\n",
    "        ax1.legend()\n",
    "        ax1.grid(True, alpha=0.3)\n",
    "        ax1.set_ylim([0, max(max(metrics['loss']), max(metrics['val_loss'])) * 1.1])\n",
    "        \n",
    "        # Accuracy plot\n",
    "        ax2.plot(epochs, [x*100 for x in metrics['accuracy']], 'b-', \n",
    "                label='Training Accuracy', linewidth=2)\n",
    "        ax2.plot(epochs, [x*100 for x in metrics['val_accuracy']], 'r-', \n",
    "                label='Validation Accuracy', linewidth=2)\n",
    "        ax2.set_title('Model Accuracy', fontsize=14)\n",
    "        ax2.set_xlabel('Epoch', fontsize=12)\n",
    "        ax2.set_ylabel('Accuracy [%]', fontsize=12)\n",
    "        ax2.legend()\n",
    "        ax2.grid(True, alpha=0.3)\n",
    "        ax2.set_ylim([0, 100])\n",
    "        \n",
    "        plt.tight_layout()\n",
    "        pdf.savefig(fig, bbox_inches='tight')\n",
    "        plt.close()\n",
    "        \n",
    "        # Page 4: Class Distribution Analysis\n",
    "        fig, (ax1, ax2) = plt.subplots(1, 2, figsize=figsize)\n",
    "        fig.suptitle('Class Distribution Analysis', fontsize=16, fontweight='bold')\n",
    "        \n",
    "        # Class distribution in test set\n",
    "        unique, counts = np.unique(y_true.numpy(), return_counts=True)\n",
    "        ax1.bar([label_names[i] for i in unique], counts, alpha=0.7, color='skyblue')\n",
    "        ax1.set_title('Test Set Class Distribution')\n",
    "        ax1.set_ylabel('Number of Samples')\n",
    "        ax1.tick_params(axis='x', rotation=45)\n",
    "        \n",
    "        # Prediction distribution\n",
    "        unique_pred, counts_pred = np.unique(y_pred.numpy(), return_counts=True)\n",
    "        ax2.bar([label_names[i] for i in unique_pred], counts_pred, alpha=0.7, color='lightcoral')\n",
    "        ax2.set_title('Prediction Distribution')\n",
    "        ax2.set_ylabel('Number of Predictions')\n",
    "        ax2.tick_params(axis='x', rotation=45)\n",
    "        \n",
    "        plt.tight_layout()\n",
    "        pdf.savefig(fig, bbox_inches='tight')\n",
    "        plt.close()\n",
    "    \n",
    "    print(f\"PDF report generated successfully: {output_path}\")\n",
    "    return output_path\n",
    "\n",
    "pdf_path = generate_model_evaluation_pdf(\n",
    "    model=model,\n",
    "    history=history,\n",
    "    test_spectrogram_ds=test_spectrogram_ds,\n",
    "    label_names=label_names,\n",
    "    model_path=model_path,\n",
    "    output_path=os.path.join(os.getcwd(), \"report\", os.path.splitext(os.path.basename(model_path))[0] + \"_evaluation.pdf\")\n",
    ")"
   ]
  },
  {
   "cell_type": "code",
   "execution_count": null,
   "id": "b172c2f5",
   "metadata": {},
   "outputs": [
    {
     "name": "stdout",
     "output_type": "stream",
     "text": [
      "Evaluating model...\n",
      "Generating predictions...\n",
      "PDF report generated successfully: my_model_dn.pdf\n"
     ]
    }
   ],
   "source": [
    "# Example usage:\n",
    "def example_usage():\n",
    "    \"\"\"\n",
    "    Example of how to use the function with your data:\n",
    "    \n",
    "    # Assuming you have your results dictionary:\n",
    "    model = results['model']\n",
    "    history = results['history']\n",
    "    model_path = results['model_path']\n",
    "    test_spectrogram_ds = results['test_spectrogram_ds']\n",
    "    label_names = results['label_names']\n",
    "    \n",
    "    # Generate the PDF report\n",
    "    pdf_path = generate_model_evaluation_pdf(\n",
    "        model=model,\n",
    "        history=history,\n",
    "        test_spectrogram_ds=test_spectrogram_ds,\n",
    "        label_names=label_names,\n",
    "        model_path=model_path,\n",
    "        output_path=\"my_model_evaluation.pdf\"\n",
    "    )\n",
    "    \n",
    "    print(f\"Report saved to: {pdf_path}\")\n",
    "    \"\"\"\n",
    "    pass\n",
    "\n",
    "\n",
    "pdf_path = generate_model_evaluation_pdf(\n",
    "        model=model,\n",
    "        history=history,\n",
    "        test_spectrogram_ds=test_spectrogram_ds,\n",
    "        label_names=label_names,\n",
    "        model_path=model_path,\n",
    "        output_path=\"my_model_dn.pdf\"\n",
    "    )\n",
    "    "
   ]
  },
  {
   "cell_type": "code",
   "execution_count": 22,
   "id": "113185cb",
   "metadata": {},
   "outputs": [
    {
     "name": "stdout",
     "output_type": "stream",
     "text": [
      "classifier_model\n",
      "/home/arisenthil/capstone2025_python/report/classifier_model\n"
     ]
    }
   ],
   "source": [
    "\n",
    "last_part = os.path.basename(model_path)\n",
    "print(last_part)\n",
    "report_path = os.path.join(os.getcwd(), \"report\", last_part)\n",
    "print(report_path)"
   ]
  },
  {
   "cell_type": "code",
   "execution_count": 23,
   "id": "cf350868",
   "metadata": {},
   "outputs": [
    {
     "name": "stdout",
     "output_type": "stream",
     "text": [
      "Evaluating model...\n",
      "Generating predictions...\n"
     ]
    },
    {
     "name": "stderr",
     "output_type": "stream",
     "text": [
      "2025-09-09 15:35:36.781729: I tensorflow/core/framework/local_rendezvous.cc:407] Local rendezvous is aborting with status: OUT_OF_RANGE: End of sequence\n"
     ]
    },
    {
     "name": "stdout",
     "output_type": "stream",
     "text": [
      "PDF report generated successfully: /home/arisenthil/capstone2025_python/report/classifier_model_evaluation.pdf\n"
     ]
    }
   ],
   "source": [
    "pdf_path = generate_model_evaluation_pdf(\n",
    "    model=model,\n",
    "    history=history,\n",
    "    test_spectrogram_ds=test_spectrogram_ds,\n",
    "    label_names=label_names,\n",
    "    model_path=model_path,\n",
    "    output_path=os.path.join(os.getcwd(), \"report\", os.path.splitext(os.path.basename(model_path))[0] + \"_evaluation.pdf\")\n",
    ")"
   ]
  },
  {
   "cell_type": "markdown",
   "id": "4a59cf5a",
   "metadata": {},
   "source": [
    "# Test"
   ]
  },
  {
   "cell_type": "code",
   "execution_count": null,
   "id": "b5726220",
   "metadata": {},
   "outputs": [],
   "source": []
  },
  {
   "cell_type": "code",
   "execution_count": null,
   "id": "677c0379",
   "metadata": {},
   "outputs": [],
   "source": []
  }
 ],
 "metadata": {
  "kernelspec": {
   "display_name": ".venv",
   "language": "python",
   "name": "python3"
  },
  "language_info": {
   "codemirror_mode": {
    "name": "ipython",
    "version": 3
   },
   "file_extension": ".py",
   "mimetype": "text/x-python",
   "name": "python",
   "nbconvert_exporter": "python",
   "pygments_lexer": "ipython3",
   "version": "3.11.13"
  }
 },
 "nbformat": 4,
 "nbformat_minor": 5
}
